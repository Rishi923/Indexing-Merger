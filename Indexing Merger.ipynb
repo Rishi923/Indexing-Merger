{
 "cells": [
  {
   "cell_type": "markdown",
   "metadata": {},
   "source": [
    "# 🖥Weekly Indexing Merging"
   ]
  },
  {
   "cell_type": "markdown",
   "metadata": {},
   "source": [
    " Consolidated Pan India Weekly Indexing"
   ]
  },
  {
   "cell_type": "code",
   "execution_count": null,
   "metadata": {},
   "outputs": [],
   "source": [
    "import os\n",
    "fp=r\"C:\\Users\\eisisrm\\OneDrive - Ericsson\\Desktop\\Deliveries\\Weekly Indexing\\WK35'22\"\n",
    "print('Execution Merging started....')\n",
    "import pandas as pd\n",
    "import pdb\n",
    "df1m=pd.DataFrame()\n",
    "for path , subdir, files in os.walk(fp):    \n",
    "     for name in files:\n",
    "             with open(os.path.join(path,name), 'rb') as myfile:\n",
    "#                     pdb.set_trace()\n",
    "                    print(name)\n",
    "                    df1=pd.read_csv(myfile)\n",
    "                    df1.insert(0,'Circle',name)\n",
    "                    if \"Classic\" in name:\n",
    "                        df1=df1.rename(columns = {'Weekly_Classic_Index':'Weekly_Enhanced_Index'})\n",
    "#                     df1.columns.values[1] = \"KPI\"\n",
    "                    df1['Circle'] = df1['Circle'].str.split('_').str[3]\n",
    "#                     df1['Circle'] = df1['Circle'].str.split('_').str[0]\n",
    "                    df1=df1[['Circle','Airtel Master Site Id (AMSI)','Weekly_Enhanced_Index','CC','Outlier','Average_<3M_Cells_Flag']] \n",
    "#                     pdb.set_trace()\n",
    "                    df1m=pd.concat([df1m,df1],ignore_index=True,sort = False)\n",
    "# df1m=df1m[['Weekly_Enhanced_Index','CC','Outlier']] \n",
    "# print(df1m)\n",
    "# if Week==35:\n",
    "#     rslt_df = df1m.loc[(df1m['Outlier'] >0 ]\n",
    "# else:\n",
    "#     rslt_df=df1m\n",
    "df1m.to_csv(r\"C:\\Users\\eisisrm\\OneDrive - Ericsson\\Desktop\\Deliveries\\Weekly Indexing\\Merged WK35'22.csv\",index = False)\n",
    "print('Completed...')\n",
    "# rslt_df.tail()"
   ]
  },
  {
   "cell_type": "markdown",
   "metadata": {},
   "source": [
    "# Merge Baseline and Current Week Indexing"
   ]
  },
  {
   "cell_type": "code",
   "execution_count": null,
   "metadata": {},
   "outputs": [],
   "source": [
    "\n",
    "\n",
    "import pandas as pd\n",
    "fp1=r\"C:\\Users\\eisisrm\\OneDrive - Ericsson\\Desktop\\Deliveries\\Weekly Indexing\\Merged WK33'22.csv\"\n",
    "fp2=r\"C:\\Users\\eisisrm\\OneDrive - Ericsson\\Desktop\\Deliveries\\Weekly Indexing\\Merged WK35'22.csv\"\n",
    "df1=pd.read_csv(fp1)\n",
    "df2=pd.read_csv(fp2)\n",
    "df7 = pd.merge(df1,df2[['Circle','Airtel Master Site Id (AMSI)','Weekly_Enhanced_Index','CC','Outlier']],on=['Circle','Airtel Master Site Id (AMSI)'],how='left',suffixes=('_Pre','_Post'))\n",
    "\n",
    "indexing ={'1' : 'Optimal', '2' : 'Optimal', '3' : 'Optimal', '4' : 'CQI', '5' : 'CQI', '6' : 'LB', '7' : 'LB', '7A' : 'LB', '8OK' : 'PreCap', '8PC' : 'PreCap', '9' : 'Overload', '10' : 'Overload', '11' : 'Overload', '12' : 'Overload', '14A_D' : 'TX', '14A_V' : 'TX', '14B_D' : 'TX', '14B_V' : 'TX', '15A' : 'Ops', '15B' : 'Ops', '15C' : 'Ops', '0AP0' : 'Coverage', '0AP1' : 'Coverage', '0AP2' : 'Coverage', '0BP0' : 'Coverage', '0BP1' : 'Coverage', '0BP2' : 'Coverage', '0CP0' : 'Coverage', '0CP1' : 'Coverage', '0CP2' : 'Coverage', '0D' : 'Coverage', 'X' : 'Others', '4B' : 'RSSI'}\n",
    "\n",
    "df7['Bucket'] = df7['Weekly_Enhanced_Index_Pre'].map(indexing)\n",
    "df7\n",
    "df7.to_csv(r\"C:\\Users\\eisisrm\\OneDrive - Ericsson\\Desktop\\Deliveries\\Weekly Indexing\\Merged (Week33&35).csv\",index = False)\n",
    "print(\"Completed...\")"
   ]
  },
  {
   "cell_type": "markdown",
   "metadata": {},
   "source": [
    "# Indexing Baseline and Current CC Summary"
   ]
  },
  {
   "cell_type": "code",
   "execution_count": null,
   "metadata": {},
   "outputs": [],
   "source": [
    "\n",
    "import pandas as pd\n",
    "import numpy as np\n",
    "import time\n",
    "\n",
    "t1 = time.time()\n",
    "fp1=r'C:\\Users\\eisisrm\\OneDrive - Ericsson\\Desktop\\Deliveries\\Weekly Indexing\\Merged (Week33&35).csv'\n",
    "df1=pd.read_csv(fp1)\n",
    "df1\n",
    "df2=df1\n",
    "df3 = df2[df2['Outlier_Pre']== 1]\n",
    "df4 = df2[df2['Bucket']== 'LB']\n",
    "df5 = df2[df2['Bucket']== 'TX']\n",
    "\n",
    "dfm = df3.append(df4,ignore_index = True)\n",
    "dff = dfm.append(df5,ignore_index = True)\n",
    "dff = dff.drop_duplicates()\n",
    "dff = dff.reset_index()\n",
    "dff\n",
    "\n",
    "\n",
    "table = pd.pivot_table(dff, index ='Circle', values =['CC_Pre', 'CC_Post'], columns ='Bucket', aggfunc = np.sum)\n",
    "table = table.swaplevel(axis = 'columns')\n",
    "table.sort_index(axis=1,ascending=[True,False],inplace=True)\n",
    "\n",
    "table.loc[\"Total\"] = table.sum()\n",
    "table.to_csv(r'C:\\Users\\eisisrm\\OneDrive - Ericsson\\Desktop\\Deliveries\\Weekly Indexing\\CC Summary (Week33&35).csv')\n",
    "\n",
    "table\n",
    "t2 = time.time()\n",
    "print(f\"Completed in {t2-t1} seconds\")\n",
    "table"
   ]
  },
  {
   "cell_type": "code",
   "execution_count": null,
   "metadata": {},
   "outputs": [],
   "source": [
    "import os\n",
    "# week = 52\n",
    "fp=r\"C:\\Users\\eisisrm\\OneDrive - Ericsson\\Desktop\\Deliveries\\WK36'22\\New Folder\"\n",
    "print('Execution Merging started....')\n",
    "import pandas as pd\n",
    "import pdb\n",
    "writer = pd.ExcelWriter(r\"C:\\Users\\eisisrm\\OneDrive - Ericsson\\Desktop\\Deliveries\\WK36'22\\Weekly Indexing National Pivot WK36'22.xlsx\", engine='xlsxwriter')\n",
    "\n",
    "df1m=pd.DataFrame()\n",
    "for path , subdir, files in os.walk(fp):    \n",
    "     for name in files:\n",
    "             with open(os.path.join(path,name), 'rb') as myfile:\n",
    "#                     print(myfile)\n",
    "                    \n",
    "#                     pdb.set_trace()\n",
    "                    k=name.split('_')[-3]\n",
    "                    df1= pd.read_excel(fp+\"\\\\\"+name,engine='openpyxl')\n",
    "                    df1['Weekly_Enhanced_Index'] = pd.to_numeric(df1['Weekly_Enhanced_Index'], errors='ignore')\n",
    "\n",
    "                    df1.to_excel(writer, sheet_name=k,index = False)\n",
    "writer.save()                    \n",
    "print(\"Completed\")\n",
    "writer.close()\n",
    "# df1.dtypes"
   ]
  }
 ],
 "metadata": {
  "kernelspec": {
   "display_name": "Python 3 (ipykernel)",
   "language": "python",
   "name": "python3"
  },
  "language_info": {
   "codemirror_mode": {
    "name": "ipython",
    "version": 3
   },
   "file_extension": ".py",
   "mimetype": "text/x-python",
   "name": "python",
   "nbconvert_exporter": "python",
   "pygments_lexer": "ipython3",
   "version": "3.9.12"
  }
 },
 "nbformat": 4,
 "nbformat_minor": 2
}
